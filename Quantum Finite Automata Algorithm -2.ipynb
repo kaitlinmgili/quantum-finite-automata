{
 "cells": [
  {
   "cell_type": "markdown",
   "metadata": {},
   "source": [
    "## _*Comparing Classical and Quantum Finite Automata (QFA)*_\n",
    "\n",
    "Finite Automaton has been a mathematical model for computation since its invention in the 1940s. The purpose of a Finite State Machine is to recognize patterns within an input taken from some character set and accept or reject the input based on whether the pattern defined by the machine occurs in the input. The machine requires a list of states, the initial state, and the conditions for each transition from state to state. Such classical examples are vending machines, coin-operated turnstiles, elevators, traffic lights, etc. \n",
    "\n",
    "In the classical algorithm, the sequence begins in the start state, and will only make a transition if the next character in the input string matches the label on the transition from the current to the next state. The machine will continue making transitions on each input character until no move is possible. The string will be accepted if its final state is in the accept state and will be rejected if its final state is anywhere else. \n",
    "\n",
    "As for Quantum Finite Automata (QFA), the machine works by accepting a finite-length string of letters from a finite alphabet and utilizing quantum properties such as superposition to assign the string a probability of being in either the accept or reject state. "
   ]
  },
  {
   "cell_type": "markdown",
   "metadata": {},
   "source": [
    "***\n",
    "### Contributors\n",
    "Kaitlin Gili"
   ]
  },
  {
   "cell_type": "markdown",
   "metadata": {},
   "source": [
    "## Prime Divisibility Algorithm \n",
    "\n",
    "Let's say that we have a string with $ a^i $ letters and we want to know whether the string is in the language $ L $ where $ L $ = {$ a^i $ | $ i $ is divisble by $ p $} and $ p $ is a prime number. If $ i $ is divisible by $ p $, we want to accept the string into the language, and if not, we want to reject it. \n",
    "$|0\\rangle $ and $ |1\\rangle $ serve as our accept and reject states. \n",
    "\n",
    "Classically, this algorithm requires a minimum of $ log(p) $ bits to store the information, whereas the quantum algorithm only requires $ log(log(p)) $ qubits. For example, using the highest known prime integer, the classical algorithm requires a minimum of 77,232,917 bits, whereas the quantum algorithm only requires 27 qubits. "
   ]
  },
  {
   "cell_type": "markdown",
   "metadata": {},
   "source": [
    "## Introduction <a id='introduction'></a>\n",
    "\n",
    "The algorithm in this notebook follows that in [Ambainis et al. 1998](https://arxiv.org/pdf/quant-ph/9802062.pdf). We assume that we are given a string and a prime integer. If the user does not input a prime number, the output will be a ValueError. First, we demonstrate a simpler version of the quantum algorithm that uses $ log(p) $ qubits to store the information. Then, we can use this to more easily understand the quantum algorithm that requires only $ log(log(p)) $ qubits."
   ]
  },
  {
   "cell_type": "markdown",
   "metadata": {},
   "source": [
    "## The Algorithm for Log(p) Qubits\n",
    "\n",
    "The algorithm is quite simple as follows.\n",
    "1. Prepare quantum and classical registers for $ log(p) $ qubits initialized to zero. \n",
    "$$ |0\\ldots 0\\rangle $$ \n",
    "2. Prepare $ log(p) $ random numbers k in the range {$ 1 $... $ p-1 $}. These numbers will be used to decrease the probability of a string getting accepted when $ i $ does not divide $ p $. \n",
    "3. Perform a number of $ i $ Y-Rotations on each qubit, where $ \\theta $ is initially zero and $ \\Phi $ is the angle of rotation for each unitary. $$ \\Phi = \\frac{2 \\pi k}{p} $$\n",
    "4. In the final state: \n",
    "$$ \\cos \\theta |0\\rangle + \\sin \\theta |1\\rangle $$\n",
    "\n",
    "$$ \\theta = \\frac{2 \\pi k} p {i} $$\n",
    "5. Measure each of the qubits in the classical register. If $ i $ divides $ p $, $ \\cos \\theta $ will be one for every qubit and the state will collapse to $ |0\\rangle $ to demonstrate an accept state with a probability of one. Otherwise, the output will consist of a small probability of accepting the string into the language and a higher probability of rejecting the string."
   ]
  },
  {
   "cell_type": "markdown",
   "metadata": {},
   "source": [
    "## The Circuit <a id=\"circuit\"></a>\n",
    "\n",
    "We now implement the QFA Prime Divisibility algorithm with QISKit by first preparing the environment."
   ]
  },
  {
   "cell_type": "code",
   "execution_count": 1,
   "metadata": {},
   "outputs": [],
   "source": [
    "# useful additional packages \n",
    "import random\n",
    "import math\n",
    "from sympy.ntheory import isprime\n",
    "\n",
    "# importing the QISKit\n",
    "from qiskit import QuantumCircuit, ClassicalRegister, QuantumRegister, QISKitError, QuantumJob\n",
    "from qiskit import available_backends, execute, register, get_backend, compile\n",
    "from qiskit.tools.visualization import plot_histogram, circuit_drawer"
   ]
  },
  {
   "cell_type": "markdown",
   "metadata": {},
   "source": [
    "We then use QISKit to program the algorithm."
   ]
  },
  {
   "cell_type": "code",
   "execution_count": 2,
   "metadata": {},
   "outputs": [],
   "source": [
    "#Function that takes in a prime number and a string of letters and returns a quantum circuit\n",
    "def qfa_algorithm(string, prime):\n",
    "    if isprime(prime) == False:\n",
    "        raise ValueError(\"This number is not a prime\") #Raises a ValueError if the input prime number is not prime\n",
    "    else:\n",
    "        n = math.ceil((math.log(prime))) #Rounds up to the next integer of the log(prime)\n",
    "        qr = QuantumRegister(n) #Creates a quantum register of length log(prime) for log(prime) qubits\n",
    "        cr = ClassicalRegister(n) #Creates a classical register for measurement \n",
    "        circuitName = \"QuantumFiniteAutomata\" #Name of the circuit/algorithm \n",
    "        qfaCircuit = QuantumCircuit(qr, cr) #Defining the circuit to take in the values of qr and cr\n",
    "        for x in range(n): #For each qubit, we want to apply a series of unitary operations with a random int\n",
    "            random_value = random.randint(1,prime - 1) #Generates the random int for each qubit from {1, prime -1}\n",
    "            for letter in string: #For each letter in the string, we want to apply the same unitary operation to each qubit\n",
    "                qfaCircuit.ry((2*math.pi*random_value) / prime, qr[x]) #Applies the Y-Rotation to each qubit \n",
    "            qfaCircuit.measure(qr[x], cr[x]) #Measures each qubit \n",
    "        return qfaCircuit #Returns the created quantum circuit\n"
   ]
  },
  {
   "cell_type": "markdown",
   "metadata": {},
   "source": [
    "The qfa_algorithm function returns the Quantum Circuit qfaCircuit."
   ]
  },
  {
   "cell_type": "markdown",
   "metadata": {},
   "source": [
    "## Experiment with Simulators\n",
    "\n",
    "We can run the above circuit on the simulator. "
   ]
  },
  {
   "cell_type": "code",
   "execution_count": 3,
   "metadata": {},
   "outputs": [],
   "source": [
    "#A function that returns a string saying if the string is accepted into the language or rejected\n",
    "def accept(parameter):\n",
    "    states = list(result.get_counts(parameter))\n",
    "    for s in states:\n",
    "        for integer in s:\n",
    "            if integer == \"1\":\n",
    "                return \"Reject: the string is not accepted into the language\"\n",
    "    return \"Accept: the string is accepted into the language\""
   ]
  },
  {
   "cell_type": "markdown",
   "metadata": {},
   "source": [
    "Insert your own parameters and try even larger prime numbers."
   ]
  },
  {
   "cell_type": "code",
   "execution_count": 4,
   "metadata": {},
   "outputs": [],
   "source": [
    "range_lower = 0\n",
    "range_higher = 10\n",
    "prime_number = 5"
   ]
  },
  {
   "cell_type": "code",
   "execution_count": 5,
   "metadata": {},
   "outputs": [
    {
     "name": "stdout",
     "output_type": "stream",
     "text": [
      "Accept: the string is accepted into the language \n",
      " Length: 0   {'00': 1024}\n",
      "Reject: the string is not accepted into the language \n",
      " Length: 1   {'00': 447, '01': 224, '10': 218, '11': 135}\n",
      "Reject: the string is not accepted into the language \n",
      " Length: 2   {'00': 57, '01': 30, '10': 610, '11': 327}\n",
      "Reject: the string is not accepted into the language \n",
      " Length: 3   {'00': 58, '01': 614, '10': 28, '11': 324}\n",
      "Reject: the string is not accepted into the language \n",
      " Length: 4   {'00': 67, '01': 32, '10': 589, '11': 336}\n",
      "Accept: the string is accepted into the language \n",
      " Length: 5   {'00': 1024}\n",
      "Reject: the string is not accepted into the language \n",
      " Length: 6   {'00': 60, '01': 615, '10': 37, '11': 312}\n",
      "Reject: the string is not accepted into the language \n",
      " Length: 7   {'00': 9, '01': 97, '10': 87, '11': 831}\n",
      "Reject: the string is not accepted into the language \n",
      " Length: 8   {'00': 57, '01': 42, '10': 601, '11': 324}\n",
      "Reject: the string is not accepted into the language \n",
      " Length: 9   {'00': 13, '01': 87, '10': 88, '11': 836}\n"
     ]
    }
   ],
   "source": [
    "for length in range(range_lower,range_higher):\n",
    "    params = qfa_algorithm(\"a\"* length, prime_number)\n",
    "    job = execute(params, \"local_qasm_simulator\")\n",
    "    result = job.result()\n",
    "    print(accept(params), \"\\n\", \"Length:\",length,\" \" ,result.get_counts(params))"
   ]
  },
  {
   "cell_type": "markdown",
   "metadata": {},
   "source": [
    "## The Algorithm for Log(Log(p)) Qubits\n",
    "\n",
    "The algorithm is quite simple as follows.\n",
    "1. Prepare a quantum register for $ log(log(p)) + 1 $ qubits initialized to zero. The $ log(log(p))$ qubits will act as your control bits and the 1 extra will act as your target bit. Also prepare a classical register for 1 bit to measure the target. \n",
    "$$ |0\\ldots 0\\rangle |0\\rangle  $$ \n",
    "2. Hadamard the control bits to put them in a superposition so that we can perform multiple QFA's at the same time.\n",
    "3. For each of $s $ states in the superposition, we can perform an individual QFA with the control qubits acting as the random integer $ k $ from the previous algorithm. Thus, we need $ n $ values from $ 1... log(p)$ for $ k $. For each letter $ i $ in the string, we perform a controlled y-rotation on the target qubit, where $ \\theta $ is initially zero and $ \\Phi $ is the angle of rotation for each unitary. $$ \\Phi = \\frac{2 \\pi k_{s}}{p} $$\n",
    "4. The target qubit in the final state: \n",
    "$$ \\cos \\theta |0\\rangle + \\sin \\theta |1\\rangle $$\n",
    "\n",
    "$$ \\theta = \\sum_{s=0}^n \\frac{2 \\pi k_{s}} p {i} $$\n",
    "5. Measure the target qubit in the classical register. If $ i $ divides $ p $, $ \\cos \\theta $ will be one for every QFA and the state of the target will collapse to $ |0\\rangle $ to demonstrate an accept state with a probability of one. Otherwise, the output will consist of a small probability of accepting the string into the language and a higher probability of rejecting the string."
   ]
  },
  {
   "cell_type": "markdown",
   "metadata": {},
   "source": [
    "## The Circuit <a id=\"circuit\"></a>"
   ]
  },
  {
   "cell_type": "markdown",
   "metadata": {},
   "source": [
    "We then use QISKit to program the algorithm."
   ]
  },
  {
   "cell_type": "code",
   "execution_count": 6,
   "metadata": {},
   "outputs": [],
   "source": [
    "#Function that takes in a prime number and a string of letters and returns a quantum circuit\n",
    "def qfa_controlled_algorithm(string, prime):\n",
    "    if isprime(prime) == False:\n",
    "        raise ValueError(\"This number is not a prime\") #Raises a ValueError if the input prime number is not prime\n",
    "    else:\n",
    "        n = math.ceil((math.log(math.log(prime,2),2))) #Represents log(log(p)) control qubits \n",
    "        states = 2 ** (n) #Number of states that the qubits can represent/Number of QFA's to be performed \n",
    "        qr = QuantumRegister(n+1) #Creates a quantum register of log(log(prime)) control qubits + 1 target qubit\n",
    "        cr = ClassicalRegister(1) #Creates a classical register of log(log(prime)) control qubits + 1 target qubit\n",
    "        circuitName = \"QuantumFiniteAutomata\" #Name of the circuit/algorithm \n",
    "        control_qfaCircuit = QuantumCircuit(qr, cr) #Defining the circuit to take in the values of qr and cr\n",
    "        for q in range(n): #We want to take each control qubit and put them in a superposition by applying a Hadamard Gate\n",
    "            control_qfaCircuit.h(qr[q])\n",
    "        for letter in string: #For each letter in the string, we want to apply a series of Controlled Y-rotations\n",
    "            for q in range(n):  \n",
    "                control_qfaCircuit.cu3(2*math.pi*(2**q)/prime, 0, 0, qr[q], qr[n]) #Controlled Y on Target qubit \n",
    "        control_qfaCircuit.measure(qr[n], cr[0]) #Measure the target qubit  \n",
    "        return control_qfaCircuit #Returns the created quantum circuit  "
   ]
  },
  {
   "cell_type": "markdown",
   "metadata": {},
   "source": [
    "The qfa_algorithm function returns the Quantum Circuit control_qfaCircuit."
   ]
  },
  {
   "cell_type": "markdown",
   "metadata": {},
   "source": [
    "## Experiment with Simulators\n",
    "\n",
    "We can run the above circuit on the simulator. "
   ]
  },
  {
   "cell_type": "code",
   "execution_count": 7,
   "metadata": {},
   "outputs": [
    {
     "name": "stdout",
     "output_type": "stream",
     "text": [
      "Accept: the string is accepted into the language \n",
      " Length: 0   {'0': 1024}\n",
      "Reject: the string is not accepted into the language \n",
      " Length: 1   {'0': 479, '1': 545}\n",
      "Reject: the string is not accepted into the language \n",
      " Length: 2   {'0': 603, '1': 421}\n",
      "Reject: the string is not accepted into the language \n",
      " Length: 3   {'0': 597, '1': 427}\n",
      "Reject: the string is not accepted into the language \n",
      " Length: 4   {'0': 494, '1': 530}\n",
      "Accept: the string is accepted into the language \n",
      " Length: 5   {'0': 1024}\n",
      "Reject: the string is not accepted into the language \n",
      " Length: 6   {'0': 464, '1': 560}\n",
      "Reject: the string is not accepted into the language \n",
      " Length: 7   {'0': 621, '1': 403}\n",
      "Reject: the string is not accepted into the language \n",
      " Length: 8   {'0': 633, '1': 391}\n",
      "Reject: the string is not accepted into the language \n",
      " Length: 9   {'0': 458, '1': 566}\n"
     ]
    }
   ],
   "source": [
    "for length in range(range_lower,range_higher):\n",
    "    params = qfa_controlled_algorithm(\"a\"* length, prime_number)\n",
    "    job = execute(params, \"local_qasm_simulator\")\n",
    "    result = job.result()\n",
    "    print(accept(params), \"\\n\", \"Length:\",length,\" \" ,result.get_counts(params))"
   ]
  }
 ],
 "metadata": {
  "kernelspec": {
   "display_name": "Python 3",
   "language": "python",
   "name": "python3"
  },
  "language_info": {
   "codemirror_mode": {
    "name": "ipython",
    "version": 3
   },
   "file_extension": ".py",
   "mimetype": "text/x-python",
   "name": "python",
   "nbconvert_exporter": "python",
   "pygments_lexer": "ipython3",
   "version": "3.6.5"
  }
 },
 "nbformat": 4,
 "nbformat_minor": 2
}
