{
 "cells": [
  {
   "cell_type": "markdown",
   "metadata": {},
   "source": [
    "## _*Quantum Finite Automata (QFA)*_\n",
    "\n",
    "Finite Automaton has a been mathematical model for computation since its invention in the 1940s. The purpose of a Finite State Machine is to recognize patterns within an input taken from some character set and accept or reject the input based on whether the pattern defined by the machine occurs in the input. The machine requires a list of states, the initial state, and the conditions for each transition from state to state. Such classical examples are vending machines, coin-operated turnstiles, elevators, traffic lights, etc. \n",
    "\n",
    "In the classical algorithm, the sequence begins in the start state, and will only make a transition if the next character in the input string matches the label on the transtion from the current to the next state. The machine will continue making transitions on each input character until no move is possible. The string will be accepted if its final state is in the accept state and will be rejected if its final state is anywhere else. \n",
    "\n",
    "As for Quantum Finite Automata (QFA), the machine works by accepting a finite-length string of letters from a finite alphabet and utilizing quantum properties such as superposition to assign the string a probability of being in either the accept or reject state. "
   ]
  },
  {
   "cell_type": "markdown",
   "metadata": {},
   "source": [
    "## Prime Divisbiltiy Algorithm \n",
    "\n",
    "Let's say that we have a string with $ a^i $ letters and we want to know whether the string is in the language $ L $ where $ L $ = {$ a^i $ | $ i $ is divisble by $ p $} and $ p $ is a prime number. If $ i $ is divisible by $ p $, we want to accept the string into the language, and if not, we want to reject it. \n",
    "$|0\\rangle $ and $ |1\\rangle $ serve as our accept and reject states. \n",
    "\n",
    "Classically, this algorithm requires a minimum of $ p $ states to store the information, whereas the quantum algorithm only requires $ log(p) $ states of memory. \n",
    "\n",
    "***\n",
    "### Contributors\n",
    "Kaitlin Gili"
   ]
  },
  {
   "cell_type": "markdown",
   "metadata": {},
   "source": [
    "## Introduction <a id='introduction'></a>\n",
    "\n",
    "The algorithm in this notebook follows that in [Ambainis et al. 1998](https://arxiv.org/pdf/quant-ph/9802062.pdf). We assume that we are given a string and and a prime integer. If the user does not input a prime number, the output will be a ValueError.     "
   ]
  },
  {
   "cell_type": "markdown",
   "metadata": {},
   "source": [
    "## The Algorithm\n",
    "\n",
    "The algorithm is quite simple as follows.\n",
    "1. Prepare quantum and classical registers for $ log(p) $ qubits initialized to zero. \n",
    "$$ |0\\ldots 0\\rangle $$ \n",
    "2. Prepare $ log(p) $ random numbers k in the range {$ 1 $... $ p-1 $}. These numbers will be used to decrease the probability of a string getting accepted when $ i $ does not divide $ p $. \n",
    "3. Perform a number of $ i $ Y-Rotations on each qubit, where $ \\theta $ is initially zero and $ \\Phi $ is the angle of rotation for each unitary. $$ \\Phi = \\frac{2 \\pi k}{p} $$\n",
    "4. In the final state: \n",
    "$$ \\cos \\theta |0\\rangle + \\sin \\theta |1\\rangle $$\n",
    "\n",
    "$$ \\theta = \\frac{2 \\pi k} p {i} $$\n",
    "5. Measure each of the qubits in the classical register. If $ i $ divides $ p $, $ \\cos \\theta $ will collapse to one for every qubit and $ |0\\rangle $  will demonstrate an accept state with a probability of one. Otherwise, the output will consist of a small proability of accepting the string into the langauge and a higer probability of rejecting the string. \n"
   ]
  },
  {
   "cell_type": "markdown",
   "metadata": {},
   "source": [
    "## The Circuit <a id=\"circuit\"></a>\n",
    "\n",
    "We now implement the QFA Prime Divisibility algorithm with QISKit by first preparing the environment."
   ]
  },
  {
   "cell_type": "code",
   "execution_count": 1,
   "metadata": {},
   "outputs": [],
   "source": [
    "# useful additional packages \n",
    "import random\n",
    "import math\n",
    "from sympy.ntheory import isprime\n",
    "\n",
    "# importing the QISKit\n",
    "from qiskit import QuantumCircuit, ClassicalRegister, QuantumRegister, QISKitError, QuantumJob\n",
    "from qiskit import available_backends, execute, register, get_backend, compile\n",
    "from qiskit.tools.visualization import plot_histogram"
   ]
  },
  {
   "cell_type": "markdown",
   "metadata": {},
   "source": [
    "We then use QISKit to program the algorithm."
   ]
  },
  {
   "cell_type": "code",
   "execution_count": 2,
   "metadata": {},
   "outputs": [],
   "source": [
    "##Function that takes in a prime number and a string of letters and returns a quantum circuit\n",
    "def qfa_algorithm(string, prime):\n",
    "    if isprime(prime) == False:\n",
    "        raise ValueError(\"This number is not a prime\") #Raises a ValueError if the input prime number is not prime\n",
    "    else:\n",
    "        n = math.ceil((math.log(prime))) #Rounds up to the next integer of the log(prime)\n",
    "        qr = QuantumRegister(n) #Creates a quantum register of length log(prime) for log(prime) qubits\n",
    "        cr = ClassicalRegister(n) #Creates a classical register for measurement \n",
    "        circuitName = \"QuantumFiniteAutomata\" #Name of the circuit/algorithm \n",
    "        qfaCircuit = QuantumCircuit(qr, cr) #Defining the circuit to take in the values of qr and cr\n",
    "        for x in range(n): #For each qubit, we want to apply a series of unitary operations with a random int\n",
    "            random_value = random.randint(1,prime - 1) #Generates the random int for each qubit from {1, prime -1}\n",
    "            for letter in string: #For each letter in the string, we want to apply the same unitary operation to each qubit\n",
    "                qfaCircuit.ry((2*math.pi*random_value) / prime, qr[x]) #Applies the Y-Rotation to each qubit \n",
    "            qfaCircuit.measure(qr[x], cr[x]) #Measures each qubit \n",
    "        return qfaCircuit #Returns the created quantum circuit\n"
   ]
  },
  {
   "cell_type": "markdown",
   "metadata": {},
   "source": [
    "The qfa_algorithm fucntion returns the Quantum Circuit qfaCircuit."
   ]
  },
  {
   "cell_type": "markdown",
   "metadata": {},
   "source": [
    "## Experiment with Simulators\n",
    "\n",
    "We can run the above circuit on the simulator. "
   ]
  },
  {
   "cell_type": "code",
   "execution_count": 3,
   "metadata": {},
   "outputs": [
    {
     "name": "stdout",
     "output_type": "stream",
     "text": [
      "{'00': 69, '01': 200, '10': 192, '11': 563}\n"
     ]
    }
   ],
   "source": [
    "params = qfa_algorithm(\"aaaa\", 3)\n",
    "job = execute(params, \"local_qasm_simulator\")\n",
    "result = job.result()\n",
    "print(result.get_counts(params))"
   ]
  },
  {
   "cell_type": "code",
   "execution_count": 4,
   "metadata": {},
   "outputs": [
    {
     "data": {
      "image/png": "[encoded data removed]",
      "text/plain": [
       "<matplotlib.figure.Figure at 0xa16516d30>"
      ]
     },
     "metadata": {},
     "output_type": "display_data"
    }
   ],
   "source": [
    "plot_histogram(result.get_counts(params))"
   ]
  }
 ],
 "metadata": {
  "kernelspec": {
   "display_name": "Python 3",
   "language": "python",
   "name": "python3"
  },
  "language_info": {
   "codemirror_mode": {
    "name": "ipython",
    "version": 3
   },
   "file_extension": ".py",
   "mimetype": "text/x-python",
   "name": "python",
   "nbconvert_exporter": "python",
   "pygments_lexer": "ipython3",
   "version": "3.6.5"
  }
 },
 "nbformat": 4,
 "nbformat_minor": 2
}
