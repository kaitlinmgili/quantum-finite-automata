{
 "cells": [
  {
   "cell_type": "code",
   "execution_count": 1,
   "metadata": {},
   "outputs": [
    {
     "data": {
      "text/html": [
       "<img src=\"http://localhost:8888/files/qiskit-sdk-py/images/QISKit-c.gif\">"
      ],
      "text/plain": [
       "<IPython.core.display.HTML object>"
      ]
     },
     "execution_count": 1,
     "metadata": {},
     "output_type": "execute_result"
    }
   ],
   "source": [
    "from IPython.display import HTML\n",
    "HTML('<img src=\"http://localhost:8888/files/qiskit-sdk-py/images/QISKit-c.gif\">')\n"
   ]
  },
  {
   "cell_type": "markdown",
   "metadata": {},
   "source": [
    "## _*Comparing Classical and Quantum Finite Automata (QFA)*_\n",
    "\n",
    "Finite Automaton has been a mathematical model for computation since its invention in the 1940s. The purpose of a Finite State Machine is to recognize patterns within an input taken from some character set and accept or reject the input based on whether the pattern defined by the machine occurs in the input. The machine requires a list of states, the initial state, and the conditions for each transition from state to state. Such classical examples are vending machines, coin-operated turnstiles, elevators, traffic lights, etc. \n",
    "\n",
    "In the classical algorithm, the sequence begins in the start state, and will only make a transition if the next character in the input string matches the label on the transition from the current to the next state. The machine will continue making transitions on each input character until no move is possible. The string will be accepted if its final state is in the accept state and will be rejected if its final state is anywhere else. \n",
    "\n",
    "As for Quantum Finite Automata (QFA), the machine works by accepting a finite-length string of letters from a finite alphabet and utilizing quantum properties such as superposition to assign the string a probability of being in either the accept or reject state. "
   ]
  },
  {
   "cell_type": "markdown",
   "metadata": {},
   "source": [
    "***\n",
    "### Contributors\n",
    "Kaitlin Gili"
   ]
  },
  {
   "cell_type": "markdown",
   "metadata": {},
   "source": [
    "## Prime Divisibility Algorithm \n",
    "\n",
    "Let's say that we have a string with $ a^i $ letters and we want to know whether the string is in the language $ L $ where $ L $ = {$ a^i $ | $ i $ is divisble by $ p $} and $ p $ is a prime number. If $ i $ is divisible by $ p $, we want to accept the string into the language, and if not, we want to reject it. \n",
    "$|0\\rangle $ and $ |1\\rangle $ serve as our accept and reject states. \n",
    "\n",
    "Classically, this algorithm requires a minimum of $ log(p) $ bits to store the information, whereas the quantum algorithm only requires $ log(log(p)) $ qubits. For example, using the highest known prime integer, the classical algorithm requires a minimum of 77,232,917 bits, whereas the quantum algorithm only requires 27 qubits. "
   ]
  },
  {
   "cell_type": "markdown",
   "metadata": {},
   "source": [
    "## Introduction <a id='introduction'></a>\n",
    "\n",
    "The algorithm in this notebook follows that in [Ambainis et al. 1998](https://arxiv.org/pdf/quant-ph/9802062.pdf). We assume that we are given a string and a prime integer. If the user does not input a prime number, the output will be a ValueError. First, we demonstrate a simpler version of the quantum algorithm that uses $ log(p) $ qubits to store the information. Then, we can use this to more easily understand the quantum algorithm that requires only $ log(log(p)) $ qubits."
   ]
  },
  {
   "cell_type": "markdown",
   "metadata": {},
   "source": [
    "## The Algorithm for Log(p) Qubits\n",
    "\n",
    "The algorithm is quite simple as follows.\n",
    "1. Prepare quantum and classical registers for $ log(p) $ qubits initialized to zero. \n",
    "$$ |0\\ldots 0\\rangle $$ \n",
    "2. Prepare $ log(p) $ random numbers k in the range {$ 1 $... $ p-1 $}. These numbers will be used to decrease the probability of a string getting accepted when $ i $ does not divide $ p $. \n",
    "3. Perform a number of $ i $ Y-Rotations on each qubit, where $ \\theta $ is initially zero and $ \\Phi $ is the angle of rotation for each unitary. $$ \\Phi = \\frac{2 \\pi k}{p} $$\n",
    "4. In the final state: \n",
    "$$ \\cos \\theta |0\\rangle + \\sin \\theta |1\\rangle $$\n",
    "\n",
    "$$ \\theta = \\frac{2 \\pi k} p {i} $$\n",
    "5. Measure each of the qubits in the classical register. If $ i $ divides $ p $, $ \\cos \\theta $ will be one for every qubit and the state will collapse to $ |0\\rangle $ to demonstrate an accept state with a probability of one. Otherwise, the output will consist of a small probability of accepting the string into the language and a higher probability of rejecting the string."
   ]
  },
  {
   "cell_type": "markdown",
   "metadata": {},
   "source": [
    "## The Circuit <a id=\"circuit\"></a>\n",
    "\n",
    "We now implement the QFA Prime Divisibility algorithm with QISKit by first preparing the environment."
   ]
  },
  {
   "cell_type": "code",
   "execution_count": 2,
   "metadata": {},
   "outputs": [],
   "source": [
    "# useful additional packages \n",
    "import random\n",
    "import math\n",
    "from sympy.ntheory import isprime\n",
    "\n",
    "# importing the QISKit\n",
    "from qiskit import QuantumCircuit, ClassicalRegister, QuantumRegister, QISKitError, QuantumJob\n",
    "from qiskit import available_backends, execute, register, get_backend, compile\n",
    "from qiskit.tools.visualization import plot_histogram, circuit_drawer"
   ]
  },
  {
   "cell_type": "markdown",
   "metadata": {},
   "source": [
    "We then use QISKit to program the algorithm."
   ]
  },
  {
   "cell_type": "code",
   "execution_count": 3,
   "metadata": {},
   "outputs": [],
   "source": [
    "#Function that takes in a prime number and a string of letters and returns a quantum circuit\n",
    "def qfa_algorithm(string, prime):\n",
    "    if isprime(prime) == False:\n",
    "        raise ValueError(\"This number is not a prime\") #Raises a ValueError if the input prime number is not prime\n",
    "    else:\n",
    "        n = math.ceil((math.log(prime))) #Rounds up to the next integer of the log(prime)\n",
    "        qr = QuantumRegister(n) #Creates a quantum register of length log(prime) for log(prime) qubits\n",
    "        cr = ClassicalRegister(n) #Creates a classical register for measurement \n",
    "        circuitName = \"QuantumFiniteAutomata\" #Name of the circuit/algorithm \n",
    "        qfaCircuit = QuantumCircuit(qr, cr) #Defining the circuit to take in the values of qr and cr\n",
    "        for x in range(n): #For each qubit, we want to apply a series of unitary operations with a random int\n",
    "            random_value = random.randint(1,prime - 1) #Generates the random int for each qubit from {1, prime -1}\n",
    "            for letter in string: #For each letter in the string, we want to apply the same unitary operation to each qubit\n",
    "                qfaCircuit.ry((2*math.pi*random_value) / prime, qr[x]) #Applies the Y-Rotation to each qubit \n",
    "            qfaCircuit.measure(qr[x], cr[x]) #Measures each qubit \n",
    "        return qfaCircuit #Returns the created quantum circuit\n"
   ]
  },
  {
   "cell_type": "markdown",
   "metadata": {},
   "source": [
    "The qfa_algorithm fucntion returns the Quantum Circuit qfaCircuit."
   ]
  },
  {
   "cell_type": "markdown",
   "metadata": {},
   "source": [
    "## Experiment with Simulators\n",
    "\n",
    "We can run the above circuit on the simulator. "
   ]
  },
  {
   "cell_type": "code",
   "execution_count": 4,
   "metadata": {},
   "outputs": [],
   "source": [
    "#A function that returns a string saying if the string is accepted into the language or rejected\n",
    "def accept(parameter):\n",
    "    states = list(result.get_counts(parameter))\n",
    "    for s in states:\n",
    "        for integer in s:\n",
    "            if integer == \"1\":\n",
    "                return \"Reject: the string is not accepted into the language\"\n",
    "    return \"Accept: the string is accepted into the language\""
   ]
  },
  {
   "cell_type": "code",
   "execution_count": 5,
   "metadata": {},
   "outputs": [
    {
     "name": "stdout",
     "output_type": "stream",
     "text": [
      "Reject: the string is not accepted into the language \n",
      " Length: 1   {'000': 69, '001': 493, '010': 3, '011': 29, '100': 56, '101': 346, '110': 4, '111': 24}\n",
      "Reject: the string is not accepted into the language \n",
      " Length: 2   {'000': 2, '001': 169, '010': 2, '011': 404, '100': 1, '101': 159, '110': 3, '111': 284}\n",
      "Reject: the string is not accepted into the language \n",
      " Length: 3   {'000': 4, '001': 4, '010': 311, '011': 273, '100': 2, '101': 3, '110': 226, '111': 201}\n",
      "Reject: the string is not accepted into the language \n",
      " Length: 4   {'000': 202, '001': 440, '010': 57, '011': 117, '100': 58, '101': 102, '110': 15, '111': 33}\n",
      "Reject: the string is not accepted into the language \n",
      " Length: 5   {'000': 91, '001': 90, '010': 217, '011': 171, '100': 91, '101': 42, '110': 191, '111': 131}\n",
      "Reject: the string is not accepted into the language \n",
      " Length: 6   {'000': 683, '001': 43, '010': 42, '100': 223, '101': 16, '110': 14, '111': 3}\n",
      "Reject: the string is not accepted into the language \n",
      " Length: 7   {'001': 12, '011': 4, '100': 12, '101': 769, '110': 5, '111': 222}\n",
      "Reject: the string is not accepted into the language \n",
      " Length: 8   {'000': 3, '001': 9, '010': 263, '011': 526, '100': 1, '101': 6, '110': 71, '111': 145}\n",
      "Reject: the string is not accepted into the language \n",
      " Length: 9   {'000': 108, '001': 24, '010': 660, '011': 183, '100': 1, '101': 1, '110': 33, '111': 14}\n",
      "Reject: the string is not accepted into the language \n",
      " Length: 10   {'000': 7, '001': 7, '010': 727, '011': 215, '100': 1, '110': 46, '111': 21}\n",
      "Reject: the string is not accepted into the language \n",
      " Length: 11   {'000': 30, '001': 265, '010': 86, '011': 584, '100': 2, '101': 16, '110': 8, '111': 33}\n",
      "Reject: the string is not accepted into the language \n",
      " Length: 12   {'000': 253, '001': 13, '010': 71, '011': 5, '100': 508, '101': 14, '110': 146, '111': 14}\n",
      "Accept: the string is accepted into the language \n",
      " Length: 13   {'000': 1024}\n",
      "Reject: the string is not accepted into the language \n",
      " Length: 14   {'000': 250, '001': 19, '010': 63, '011': 6, '100': 489, '101': 32, '110': 154, '111': 11}\n",
      "Reject: the string is not accepted into the language \n",
      " Length: 15   {'000': 350, '001': 116, '010': 260, '011': 80, '100': 100, '101': 20, '110': 79, '111': 19}\n",
      "Reject: the string is not accepted into the language \n",
      " Length: 16   {'000': 155, '001': 128, '010': 375, '011': 312, '100': 13, '101': 5, '110': 24, '111': 12}\n",
      "Reject: the string is not accepted into the language \n",
      " Length: 17   {'000': 585, '001': 166, '010': 161, '011': 53, '100': 39, '101': 10, '110': 8, '111': 2}\n",
      "Reject: the string is not accepted into the language \n",
      " Length: 18   {'000': 40, '001': 41, '010': 283, '011': 222, '100': 31, '101': 23, '110': 219, '111': 165}\n",
      "Reject: the string is not accepted into the language \n",
      " Length: 19   {'000': 35, '001': 59, '010': 233, '011': 476, '100': 9, '101': 16, '110': 59, '111': 137}\n",
      "Reject: the string is not accepted into the language \n",
      " Length: 20   {'000': 15, '001': 18, '010': 55, '011': 28, '100': 157, '101': 119, '110': 339, '111': 293}\n",
      "Reject: the string is not accepted into the language \n",
      " Length: 21   {'000': 37, '001': 14, '010': 221, '011': 62, '100': 59, '101': 14, '110': 482, '111': 135}\n",
      "Reject: the string is not accepted into the language \n",
      " Length: 22   {'000': 488, '001': 47, '010': 27, '100': 413, '101': 22, '110': 26, '111': 1}\n",
      "Reject: the string is not accepted into the language \n",
      " Length: 23   {'000': 38, '001': 3, '010': 275, '011': 20, '100': 71, '101': 4, '110': 583, '111': 30}\n",
      "Reject: the string is not accepted into the language \n",
      " Length: 24   {'000': 7, '001': 291, '011': 17, '100': 7, '101': 665, '111': 37}\n"
     ]
    }
   ],
   "source": [
    "for length in range(1,25):\n",
    "    params = qfa_algorithm(\"a\"* length, 13)\n",
    "    job = execute(params, \"local_qasm_simulator\")\n",
    "    result = job.result()\n",
    "    print(accept(params), \"\\n\", \"Length:\",length,\" \" ,result.get_counts(params))"
   ]
  },
  {
   "cell_type": "markdown",
   "metadata": {},
   "source": [
    "## The Algorithm for Log(Log(p)) Qubits\n",
    "\n",
    "The algorithm is quite simple as follows.\n",
    "1. Prepare a quantum register for $ log(log(p)) + 1 $ qubits initialized to zero. The $ log(log(p))$ qubits will act as your control bits and the 1 extra will act as your target bit. Also prepare a classical register for 1 bit to measure the target. \n",
    "$$ |0\\ldots 0\\rangle |0\\rangle  $$ \n",
    "2. Hadamard the control bits to put them in a superposition so that we can perform multiple QFA's at the same time.\n",
    "3. For each of $s $ states in the superposition, we can perform an individual QFA with the control qubits acting as the random integer $ k $ from the previous algorithm. Thus, we need $ n $ values from $ 1... log(p)$ for $ k $. For each letter $ i $ in the string, we perform a controlled y-rotation on the target qubit, where $ \\theta $ is initially zero and $ \\Phi $ is the angle of rotation for each unitary. $$ \\Phi = \\frac{2 \\pi k_{s}}{p} $$\n",
    "4. The target qubit in the final state: \n",
    "$$ \\cos \\theta |0\\rangle + \\sin \\theta |1\\rangle $$\n",
    "\n",
    "$$ \\theta = \\sum_{s=0}^n \\frac{2 \\pi k_{s}} p {i} $$\n",
    "5. Measure the target qubit in the classical register. If $ i $ divides $ p $, $ \\cos \\theta $ will be one for every QFA and the state of the target will collapse to $ |0\\rangle $ to demonstrate an accept state with a probability of one. Otherwise, the output will consist of a small probability of accepting the string into the language and a higher probability of rejecting the string."
   ]
  },
  {
   "cell_type": "markdown",
   "metadata": {},
   "source": [
    "## The Circuit <a id=\"circuit\"></a>"
   ]
  },
  {
   "cell_type": "markdown",
   "metadata": {},
   "source": [
    "We then use QISKit to program the algorithm."
   ]
  },
  {
   "cell_type": "code",
   "execution_count": 6,
   "metadata": {},
   "outputs": [],
   "source": [
    "#Function that takes in a prime number and a string of letters and returns a quantum circuit\n",
    "def qfa_controlled_algorithm(string, prime):\n",
    "    if isprime(prime) == False:\n",
    "        raise ValueError(\"This number is not a prime\") #Raises a ValueError if the input prime number is not prime\n",
    "    else:\n",
    "        n = math.ceil((math.log(math.log(prime,2),2))) #Represents log(log(p)) control qubits \n",
    "        states = 2 ** (n) #Number of states that the qubits can represent/Number of QFA's to be performed \n",
    "        qr = QuantumRegister(n+1) #Creates a quantum register of log(log(prime)) control qubits + 1 target qubit\n",
    "        cr = ClassicalRegister(1) #Creates a classical register of log(log(prime)) control qubits + 1 target qubit\n",
    "        circuitName = \"QuantumFiniteAutomata\" #Name of the circuit/algorithm \n",
    "        control_qfaCircuit = QuantumCircuit(qr, cr) #Defining the circuit to take in the values of qr and cr\n",
    "        for q in range(n): #We want to take each control qubit and put them in a superposition by applying a Hadamard Gate\n",
    "            control_qfaCircuit.h(qr[q])\n",
    "        for letter in string: #For each letter in the string, we want to apply a series of Controlled Y-rotations\n",
    "            for q in range(n):  \n",
    "                control_qfaCircuit.cu3(2*math.pi*(2**q)/prime, 0, 0, qr[q], qr[n]) #Controlled Y on Target qubit \n",
    "        control_qfaCircuit.measure(qr[n], cr[0]) #Measure the target qubit  \n",
    "        return control_qfaCircuit #Returns the created quantum circuit  "
   ]
  },
  {
   "cell_type": "markdown",
   "metadata": {},
   "source": [
    "The qfa_algorithm fucntion returns the Quantum Circuit control_qfaCircuit."
   ]
  },
  {
   "cell_type": "markdown",
   "metadata": {},
   "source": [
    "## Experiment with Simulators\n",
    "\n",
    "We can run the above circuit on the simulator. "
   ]
  },
  {
   "cell_type": "code",
   "execution_count": 7,
   "metadata": {},
   "outputs": [
    {
     "name": "stdout",
     "output_type": "stream",
     "text": [
      "Reject: the string is not accepted into the language \n",
      " Length: 1   {'0': 840, '1': 184}\n",
      "Reject: the string is not accepted into the language \n",
      " Length: 2   {'0': 527, '1': 497}\n",
      "Reject: the string is not accepted into the language \n",
      " Length: 3   {'0': 488, '1': 536}\n",
      "Reject: the string is not accepted into the language \n",
      " Length: 4   {'0': 616, '1': 408}\n",
      "Reject: the string is not accepted into the language \n",
      " Length: 5   {'0': 670, '1': 354}\n",
      "Reject: the string is not accepted into the language \n",
      " Length: 6   {'0': 537, '1': 487}\n",
      "Reject: the string is not accepted into the language \n",
      " Length: 7   {'0': 541, '1': 483}\n",
      "Reject: the string is not accepted into the language \n",
      " Length: 8   {'0': 629, '1': 395}\n",
      "Reject: the string is not accepted into the language \n",
      " Length: 9   {'0': 624, '1': 400}\n",
      "Reject: the string is not accepted into the language \n",
      " Length: 10   {'0': 481, '1': 543}\n",
      "Reject: the string is not accepted into the language \n",
      " Length: 11   {'0': 527, '1': 497}\n",
      "Reject: the string is not accepted into the language \n",
      " Length: 12   {'0': 839, '1': 185}\n",
      "Accept: the string is accepted into the language \n",
      " Length: 13   {'0': 1024}\n",
      "Reject: the string is not accepted into the language \n",
      " Length: 14   {'0': 856, '1': 168}\n",
      "Reject: the string is not accepted into the language \n",
      " Length: 15   {'0': 540, '1': 484}\n",
      "Reject: the string is not accepted into the language \n",
      " Length: 16   {'0': 486, '1': 538}\n",
      "Reject: the string is not accepted into the language \n",
      " Length: 17   {'0': 578, '1': 446}\n",
      "Reject: the string is not accepted into the language \n",
      " Length: 18   {'0': 624, '1': 400}\n",
      "Reject: the string is not accepted into the language \n",
      " Length: 19   {'0': 539, '1': 485}\n",
      "Reject: the string is not accepted into the language \n",
      " Length: 20   {'0': 528, '1': 496}\n",
      "Reject: the string is not accepted into the language \n",
      " Length: 21   {'0': 651, '1': 373}\n",
      "Reject: the string is not accepted into the language \n",
      " Length: 22   {'0': 611, '1': 413}\n",
      "Reject: the string is not accepted into the language \n",
      " Length: 23   {'0': 491, '1': 533}\n",
      "Reject: the string is not accepted into the language \n",
      " Length: 24   {'0': 542, '1': 482}\n"
     ]
    }
   ],
   "source": [
    "for length in range(1,25):\n",
    "    params = qfa_controlled_algorithm(\"a\"* length, 13)\n",
    "    job = execute(params, \"local_qasm_simulator\")\n",
    "    result = job.result()\n",
    "    print(accept(params), \"\\n\", \"Length:\",length,\" \" ,result.get_counts(params))"
   ]
  }
 ],
 "metadata": {
  "kernelspec": {
   "display_name": "Python 3",
   "language": "python",
   "name": "python3"
  },
  "language_info": {
   "codemirror_mode": {
    "name": "ipython",
    "version": 3
   },
   "file_extension": ".py",
   "mimetype": "text/x-python",
   "name": "python",
   "nbconvert_exporter": "python",
   "pygments_lexer": "ipython3",
   "version": "3.6.5"
  }
 },
 "nbformat": 4,
 "nbformat_minor": 2
}
