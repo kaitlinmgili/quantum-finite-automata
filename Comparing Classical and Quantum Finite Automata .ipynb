{
 "cells": [
  {
   "cell_type": "markdown",
   "metadata": {},
   "source": [
    "## _*Comparing Classical and Quantum Finite Automata (QFA)*_\n",
    "\n",
    "Finite Automaton has been a mathematical model for computation since its invention in the 1940s. The purpose of a Finite State Machine is to recognize patterns within an input taken from some character set and accept or reject the input based on whether the pattern defined by the machine occurs in the input. The machine requires a list of states, the initial state, and the conditions for each transition from state to state. Such classical examples are vending machines, coin-operated turnstiles, elevators, traffic lights, etc. \n",
    "\n",
    "In the classical algorithm, the sequence begins in the start state, and will only make a transition if the next character in the input string matches the label on the transition from the current to the next state. The machine will continue making transitions on each input character until no move is possible. The string will be accepted if its final state is in the accept state and will be rejected if its final state is anywhere else. \n",
    "\n",
    "As for Quantum Finite Automata (QFA), the machine works by accepting a finite-length string of letters from a finite alphabet and utilizing quantum properties such as superposition to assign the string a probability of being in either the accept or reject state. "
   ]
  },
  {
   "cell_type": "markdown",
   "metadata": {},
   "source": [
    "***\n",
    "### Contributors\n",
    "Kaitlin Gili"
   ]
  },
  {
   "cell_type": "markdown",
   "metadata": {},
   "source": [
    "## Prime Divisibility Algorithm \n",
    "\n",
    "Let's say that we have a string with $ a^i $ letters and we want to know whether the string is in the language $ L $ where $ L $ = {$ a^i $ | $ i $ is divisble by $ p $} and $ p $ is a prime number. If $ i $ is divisible by $ p $, we want to accept the string into the language, and if not, we want to reject it. \n",
    "$|0\\rangle $ and $ |1\\rangle $ serve as our accept and reject states. \n",
    "\n",
    "Classically, this algorithm requires a minimum of $ log(p) $ bits to store the information, whereas the quantum algorithm only requires $ log(log(p)) $ qubits. For example, using the highest known prime integer, the classical algorithm requires a minimum of 77,232,917 bits, whereas the quantum algorithm only requires 27 qubits. "
   ]
  },
  {
   "cell_type": "markdown",
   "metadata": {},
   "source": [
    "## Introduction <a id='introduction'></a>\n",
    "\n",
    "The algorithm in this notebook follows that in [Ambainis et al. 1998](https://arxiv.org/pdf/quant-ph/9802062.pdf). We assume that we are given a string and a prime integer. If the user does not input a prime number, the output will be a ValueError. First, we demonstrate a simpler version of the quantum algorithm that uses $ log(p) $ qubits to store the information. Then, we can use this to more easily understand the quantum algorithm that requires only $ log(log(p)) $ qubits."
   ]
  },
  {
   "cell_type": "markdown",
   "metadata": {},
   "source": [
    "## The Algorithm for Log(p) Qubits\n",
    "\n",
    "The algorithm is quite simple as follows.\n",
    "1. Prepare quantum and classical registers for $ log(p) $ qubits initialized to zero. \n",
    "$$ |0\\ldots 0\\rangle $$ \n",
    "2. Prepare $ log(p) $ random numbers k in the range {$ 1 $... $ p-1 $}. These numbers will be used to decrease the probability of a string getting accepted when $ i $ does not divide $ p $. \n",
    "3. Perform a number of $ i $ Y-Rotations on each qubit, where $ \\theta $ is initially zero and $ \\Phi $ is the angle of rotation for each unitary. $$ \\Phi = \\frac{2 \\pi k}{p} $$\n",
    "4. In the final state: \n",
    "$$ \\cos \\theta |0\\rangle + \\sin \\theta |1\\rangle $$\n",
    "\n",
    "$$ \\theta = \\frac{2 \\pi k} p {i} $$\n",
    "5. Measure each of the qubits in the classical register. If $ i $ divides $ p $, $ \\cos \\theta $ will be one for every qubit and the state will collapse to $ |0\\rangle $ to demonstrate an accept state with a probability of one. Otherwise, the output will consist of a small probability of accepting the string into the language and a higher probability of rejecting the string."
   ]
  },
  {
   "cell_type": "markdown",
   "metadata": {},
   "source": [
    "## The Circuit <a id=\"circuit\"></a>\n",
    "\n",
    "We now implement the QFA Prime Divisibility algorithm with QISKit by first preparing the environment."
   ]
  },
  {
   "cell_type": "code",
   "execution_count": 1,
   "metadata": {},
   "outputs": [],
   "source": [
    "# useful additional packages \n",
    "import random\n",
    "import math\n",
    "from sympy.ntheory import isprime\n",
    "\n",
    "# importing the QISKit\n",
    "from qiskit import QuantumCircuit, ClassicalRegister, QuantumRegister, QISKitError, QuantumJob\n",
    "from qiskit import available_backends, execute, register, get_backend, compile\n",
    "from qiskit.tools.visualization import plot_histogram, circuit_drawer"
   ]
  },
  {
   "cell_type": "markdown",
   "metadata": {},
   "source": [
    "We then use QISKit to program the algorithm."
   ]
  },
  {
   "cell_type": "code",
   "execution_count": 2,
   "metadata": {},
   "outputs": [],
   "source": [
    "#Function that takes in a prime number and a string of letters and returns a quantum circuit\n",
    "def qfa_algorithm(string, prime):\n",
    "    if isprime(prime) == False:\n",
    "        raise ValueError(\"This number is not a prime\") #Raises a ValueError if the input prime number is not prime\n",
    "    else:\n",
    "        n = math.ceil((math.log(prime))) #Rounds up to the next integer of the log(prime)\n",
    "        qr = QuantumRegister(n) #Creates a quantum register of length log(prime) for log(prime) qubits\n",
    "        cr = ClassicalRegister(n) #Creates a classical register for measurement \n",
    "        circuitName = \"QuantumFiniteAutomata\" #Name of the circuit/algorithm \n",
    "        qfaCircuit = QuantumCircuit(qr, cr) #Defining the circuit to take in the values of qr and cr\n",
    "        for x in range(n): #For each qubit, we want to apply a series of unitary operations with a random int\n",
    "            random_value = random.randint(1,prime - 1) #Generates the random int for each qubit from {1, prime -1}\n",
    "            for letter in string: #For each letter in the string, we want to apply the same unitary operation to each qubit\n",
    "                qfaCircuit.ry((2*math.pi*random_value) / prime, qr[x]) #Applies the Y-Rotation to each qubit \n",
    "            qfaCircuit.measure(qr[x], cr[x]) #Measures each qubit \n",
    "        return qfaCircuit #Returns the created quantum circuit\n"
   ]
  },
  {
   "cell_type": "markdown",
   "metadata": {},
   "source": [
    "The qfa_algorithm function returns the Quantum Circuit qfaCircuit."
   ]
  },
  {
   "cell_type": "markdown",
   "metadata": {},
   "source": [
    "## Experiment with Simulators\n",
    "\n",
    "We can run the above circuit on the simulator. "
   ]
  },
  {
   "cell_type": "code",
   "execution_count": 3,
   "metadata": {},
   "outputs": [],
   "source": [
    "#A function that returns a string saying if the string is accepted into the language or rejected\n",
    "def accept(parameter):\n",
    "    states = list(result.get_counts(parameter))\n",
    "    for s in states:\n",
    "        for integer in s:\n",
    "            if integer == \"1\":\n",
    "                return \"Reject: the string is not accepted into the language\"\n",
    "    return \"Accept: the string is accepted into the language\""
   ]
  },
  {
   "cell_type": "code",
   "execution_count": 4,
   "metadata": {},
   "outputs": [
    {
     "name": "stdout",
     "output_type": "stream",
     "text": [
      "Reject: the string is not accepted into the language \n",
      " Length: 40   {'0000': 172, '0001': 79, '0010': 20, '0011': 9, '0100': 134, '0101': 64, '0110': 13, '0111': 2, '1000': 180, '1001': 75, '1010': 21, '1011': 8, '1100': 145, '1101': 72, '1110': 21, '1111': 9}\n",
      "Reject: the string is not accepted into the language \n",
      " Length: 41   {'0000': 13, '0001': 25, '0010': 5, '0011': 11, '0100': 17, '0101': 38, '0110': 9, '0111': 18, '1000': 73, '1001': 176, '1010': 28, '1011': 87, '1100': 102, '1101': 267, '1110': 45, '1111': 110}\n",
      "Reject: the string is not accepted into the language \n",
      " Length: 42   {'0000': 34, '0001': 112, '0010': 73, '0011': 219, '0100': 2, '0101': 4, '0111': 10, '1000': 52, '1001': 131, '1010': 80, '1011': 291, '1100': 2, '1101': 2, '1110': 3, '1111': 9}\n",
      "Reject: the string is not accepted into the language \n",
      " Length: 43   {'0100': 2, '0101': 10, '0111': 19, '1001': 4, '1011': 3, '1100': 39, '1101': 364, '1110': 43, '1111': 540}\n",
      "Reject: the string is not accepted into the language \n",
      " Length: 44   {'0000': 9, '0001': 406, '0010': 11, '0011': 444, '0100': 3, '0101': 63, '0110': 4, '0111': 81, '1011': 3}\n",
      "Reject: the string is not accepted into the language \n",
      " Length: 45   {'0000': 11, '0001': 275, '0010': 3, '0011': 218, '0101': 19, '0110': 2, '0111': 16, '1000': 6, '1001': 234, '1010': 6, '1011': 183, '1100': 5, '1101': 27, '1111': 19}\n",
      "Reject: the string is not accepted into the language \n",
      " Length: 46   {'0000': 10, '0001': 223, '0010': 26, '0011': 524, '0100': 2, '0101': 48, '0110': 4, '0111': 133, '1000': 1, '1001': 11, '1010': 3, '1011': 31, '1101': 2, '1111': 6}\n",
      "Accept: the string is accepted into the language \n",
      " Length: 47   {'0000': 1024}\n",
      "Reject: the string is not accepted into the language \n",
      " Length: 48   {'0001': 21, '0011': 585, '0101': 2, '0110': 1, '0111': 90, '1001': 9, '1011': 260, '1101': 2, '1111': 54}\n",
      "Reject: the string is not accepted into the language \n",
      " Length: 49   {'0000': 113, '0001': 100, '0010': 398, '0011': 309, '0100': 10, '0101': 8, '0110': 28, '0111': 21, '1000': 3, '1001': 2, '1010': 18, '1011': 12, '1101': 1, '1110': 1}\n",
      "Reject: the string is not accepted into the language \n",
      " Length: 50   {'0001': 212, '0011': 126, '0101': 4, '0111': 2, '1000': 2, '1001': 406, '1011': 260, '1101': 7, '1111': 5}\n",
      "Reject: the string is not accepted into the language \n",
      " Length: 51   {'0000': 49, '0001': 91, '0010': 22, '0011': 40, '0100': 180, '0101': 332, '0110': 89, '0111': 153, '1000': 5, '1001': 2, '1010': 4, '1011': 2, '1100': 11, '1101': 26, '1110': 6, '1111': 12}\n",
      "Reject: the string is not accepted into the language \n",
      " Length: 52   {'0001': 1, '0101': 2, '0110': 1, '0111': 5, '1000': 4, '1001': 31, '1010': 8, '1011': 118, '1100': 14, '1101': 200, '1110': 26, '1111': 614}\n",
      "Reject: the string is not accepted into the language \n",
      " Length: 53   {'0000': 8, '0001': 504, '0010': 2, '0011': 355, '0100': 2, '0101': 70, '0111': 38, '1001': 24, '1011': 16, '1101': 3, '1111': 2}\n",
      "Reject: the string is not accepted into the language \n",
      " Length: 54   {'0000': 61, '0001': 34, '0010': 162, '0011': 90, '0100': 127, '0101': 64, '0110': 277, '0111': 176, '1000': 2, '1010': 7, '1011': 2, '1100': 6, '1101': 2, '1110': 9, '1111': 5}\n",
      "Reject: the string is not accepted into the language \n",
      " Length: 55   {'0000': 45, '0001': 58, '0010': 8, '0011': 12, '0100': 313, '0101': 440, '0110': 53, '0111': 47, '1000': 5, '1001': 1, '1011': 1, '1100': 15, '1101': 19, '1110': 1, '1111': 6}\n",
      "Reject: the string is not accepted into the language \n",
      " Length: 56   {'0000': 35, '0001': 35, '0010': 23, '0011': 11, '0100': 69, '0101': 66, '0110': 30, '0111': 37, '1000': 87, '1001': 78, '1010': 37, '1011': 35, '1100': 151, '1101': 182, '1110': 79, '1111': 69}\n",
      "Reject: the string is not accepted into the language \n",
      " Length: 57   {'0000': 1, '0001': 75, '0010': 11, '0011': 329, '0101': 9, '0110': 4, '0111': 67, '1000': 4, '1001': 77, '1010': 12, '1011': 350, '1101': 13, '1110': 1, '1111': 71}\n",
      "Reject: the string is not accepted into the language \n",
      " Length: 58   {'0010': 1, '0011': 1, '0101': 5, '0110': 11, '0111': 16, '1000': 6, '1001': 7, '1010': 39, '1011': 31, '1100': 85, '1101': 89, '1110': 341, '1111': 392}\n",
      "Reject: the string is not accepted into the language \n",
      " Length: 59   {'0010': 5, '0011': 9, '0101': 2, '0110': 35, '0111': 70, '1001': 2, '1010': 20, '1011': 47, '1100': 3, '1101': 4, '1110': 281, '1111': 546}\n"
     ]
    }
   ],
   "source": [
    "for length in range(40,60):\n",
    "    params = qfa_algorithm(\"a\"* length, 47)\n",
    "    job = execute(params, \"local_qasm_simulator\")\n",
    "    result = job.result()\n",
    "    print(accept(params), \"\\n\", \"Length:\",length,\" \" ,result.get_counts(params))"
   ]
  },
  {
   "cell_type": "markdown",
   "metadata": {},
   "source": [
    "## The Algorithm for Log(Log(p)) Qubits\n",
    "\n",
    "The algorithm is quite simple as follows.\n",
    "1. Prepare a quantum register for $ log(log(p)) + 1 $ qubits initialized to zero. The $ log(log(p))$ qubits will act as your control bits and the 1 extra will act as your target bit. Also prepare a classical register for 1 bit to measure the target. \n",
    "$$ |0\\ldots 0\\rangle |0\\rangle  $$ \n",
    "2. Hadamard the control bits to put them in a superposition so that we can perform multiple QFA's at the same time.\n",
    "3. For each of $s $ states in the superposition, we can perform an individual QFA with the control qubits acting as the random integer $ k $ from the previous algorithm. Thus, we need $ n $ values from $ 1... log(p)$ for $ k $. For each letter $ i $ in the string, we perform a controlled y-rotation on the target qubit, where $ \\theta $ is initially zero and $ \\Phi $ is the angle of rotation for each unitary. $$ \\Phi = \\frac{2 \\pi k_{s}}{p} $$\n",
    "4. The target qubit in the final state: \n",
    "$$ \\cos \\theta |0\\rangle + \\sin \\theta |1\\rangle $$\n",
    "\n",
    "$$ \\theta = \\sum_{s=0}^n \\frac{2 \\pi k_{s}} p {i} $$\n",
    "5. Measure the target qubit in the classical register. If $ i $ divides $ p $, $ \\cos \\theta $ will be one for every QFA and the state of the target will collapse to $ |0\\rangle $ to demonstrate an accept state with a probability of one. Otherwise, the output will consist of a small probability of accepting the string into the language and a higher probability of rejecting the string."
   ]
  },
  {
   "cell_type": "markdown",
   "metadata": {},
   "source": [
    "## The Circuit <a id=\"circuit\"></a>"
   ]
  },
  {
   "cell_type": "markdown",
   "metadata": {},
   "source": [
    "We then use QISKit to program the algorithm."
   ]
  },
  {
   "cell_type": "code",
   "execution_count": 5,
   "metadata": {},
   "outputs": [],
   "source": [
    "#Function that takes in a prime number and a string of letters and returns a quantum circuit\n",
    "def qfa_controlled_algorithm(string, prime):\n",
    "    if isprime(prime) == False:\n",
    "        raise ValueError(\"This number is not a prime\") #Raises a ValueError if the input prime number is not prime\n",
    "    else:\n",
    "        n = math.ceil((math.log(math.log(prime,2),2))) #Represents log(log(p)) control qubits \n",
    "        states = 2 ** (n) #Number of states that the qubits can represent/Number of QFA's to be performed \n",
    "        qr = QuantumRegister(n+1) #Creates a quantum register of log(log(prime)) control qubits + 1 target qubit\n",
    "        cr = ClassicalRegister(1) #Creates a classical register of log(log(prime)) control qubits + 1 target qubit\n",
    "        circuitName = \"QuantumFiniteAutomata\" #Name of the circuit/algorithm \n",
    "        control_qfaCircuit = QuantumCircuit(qr, cr) #Defining the circuit to take in the values of qr and cr\n",
    "        for q in range(n): #We want to take each control qubit and put them in a superposition by applying a Hadamard Gate\n",
    "            control_qfaCircuit.h(qr[q])\n",
    "        for letter in string: #For each letter in the string, we want to apply a series of Controlled Y-rotations\n",
    "            for q in range(n):  \n",
    "                control_qfaCircuit.cu3(2*math.pi*(2**q)/prime, 0, 0, qr[q], qr[n]) #Controlled Y on Target qubit \n",
    "        control_qfaCircuit.measure(qr[n], cr[0]) #Measure the target qubit  \n",
    "        return control_qfaCircuit #Returns the created quantum circuit  "
   ]
  },
  {
   "cell_type": "markdown",
   "metadata": {},
   "source": [
    "The qfa_algorithm function returns the Quantum Circuit control_qfaCircuit."
   ]
  },
  {
   "cell_type": "markdown",
   "metadata": {},
   "source": [
    "## Experiment with Simulators\n",
    "\n",
    "We can run the above circuit on the simulator. "
   ]
  },
  {
   "cell_type": "code",
   "execution_count": 6,
   "metadata": {},
   "outputs": [
    {
     "name": "stdout",
     "output_type": "stream",
     "text": [
      "Reject: the string is not accepted into the language \n",
      " Length: 40   {'0': 595, '1': 429}\n",
      "Reject: the string is not accepted into the language \n",
      " Length: 41   {'0': 516, '1': 508}\n",
      "Reject: the string is not accepted into the language \n",
      " Length: 42   {'0': 470, '1': 554}\n",
      "Reject: the string is not accepted into the language \n",
      " Length: 43   {'0': 458, '1': 566}\n",
      "Reject: the string is not accepted into the language \n",
      " Length: 44   {'0': 569, '1': 455}\n",
      "Reject: the string is not accepted into the language \n",
      " Length: 45   {'0': 761, '1': 263}\n",
      "Reject: the string is not accepted into the language \n",
      " Length: 46   {'0': 944, '1': 80}\n",
      "Accept: the string is accepted into the language \n",
      " Length: 47   {'0': 1024}\n",
      "Reject: the string is not accepted into the language \n",
      " Length: 48   {'0': 955, '1': 69}\n",
      "Reject: the string is not accepted into the language \n",
      " Length: 49   {'0': 765, '1': 259}\n",
      "Reject: the string is not accepted into the language \n",
      " Length: 50   {'0': 553, '1': 471}\n",
      "Reject: the string is not accepted into the language \n",
      " Length: 51   {'0': 437, '1': 587}\n",
      "Reject: the string is not accepted into the language \n",
      " Length: 52   {'0': 451, '1': 573}\n",
      "Reject: the string is not accepted into the language \n",
      " Length: 53   {'0': 529, '1': 495}\n",
      "Reject: the string is not accepted into the language \n",
      " Length: 54   {'0': 568, '1': 456}\n",
      "Reject: the string is not accepted into the language \n",
      " Length: 55   {'0': 573, '1': 451}\n",
      "Reject: the string is not accepted into the language \n",
      " Length: 56   {'0': 573, '1': 451}\n",
      "Reject: the string is not accepted into the language \n",
      " Length: 57   {'0': 530, '1': 494}\n",
      "Reject: the string is not accepted into the language \n",
      " Length: 58   {'0': 468, '1': 556}\n",
      "Reject: the string is not accepted into the language \n",
      " Length: 59   {'0': 529, '1': 495}\n"
     ]
    }
   ],
   "source": [
    "for length in range(40,60):\n",
    "    params = qfa_controlled_algorithm(\"a\"* length, 47)\n",
    "    job = execute(params, \"local_qasm_simulator\")\n",
    "    result = job.result()\n",
    "    print(accept(params), \"\\n\", \"Length:\",length,\" \" ,result.get_counts(params))"
   ]
  }
 ],
 "metadata": {
  "kernelspec": {
   "display_name": "Python 3",
   "language": "python",
   "name": "python3"
  },
  "language_info": {
   "codemirror_mode": {
    "name": "ipython",
    "version": 3
   },
   "file_extension": ".py",
   "mimetype": "text/x-python",
   "name": "python",
   "nbconvert_exporter": "python",
   "pygments_lexer": "ipython3",
   "version": "3.6.5"
  }
 },
 "nbformat": 4,
 "nbformat_minor": 2
}
