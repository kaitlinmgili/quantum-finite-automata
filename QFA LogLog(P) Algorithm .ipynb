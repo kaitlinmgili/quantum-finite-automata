{
 "cells": [
  {
   "cell_type": "code",
   "execution_count": 1,
   "metadata": {},
   "outputs": [],
   "source": [
    "# useful additional packages \n",
    "import random\n",
    "import math\n",
    "from math import pi\n",
    "from sympy.ntheory import isprime\n",
    "\n",
    "# importing the QISKit\n",
    "from qiskit import QuantumCircuit, ClassicalRegister, QuantumRegister, QISKitError, QuantumJob\n",
    "from qiskit import available_backends, execute, register, get_backend, compile\n",
    "from qiskit.tools.visualization import plot_histogram, circuit_drawer"
   ]
  },
  {
   "cell_type": "code",
   "execution_count": 2,
   "metadata": {},
   "outputs": [],
   "source": [
    "def qfa_speedup(string, prime):\n",
    "    if isprime(prime) == False:\n",
    "        raise ValueError(\"This number is not a prime\") #Raises a ValueError if the input prime number is not prime\n",
    "    else:\n",
    "        n = math.ceil((math.log(math.log(prime)))) + 1 #Represents log(log(p)) control qubits with 1 target qubit\n",
    "        qr = QuantumRegister(n) #Creates a quantum register of length log(log(prime)) + 1\n",
    "        cr = ClassicalRegister(n) #Creates a classical register of length log(log(prime)) + 1\n",
    "        circuitName = \"QuantumFiniteAutomata\" #Name of the circuit/algorithm \n",
    "        qfaCircuit = QuantumCircuit(qr, cr) #Defining the circuit to take in the values of qr and cr\n",
    "        for x in range(n-1): #We want to take each qubit and put them in a superposition by applying a Hadamard Gate\n",
    "            qfaCircuit.h(qr[x])\n",
    "        for letter in string: #For each letter in the string, we want to apply a series of Controlled Y-rotations\n",
    "            for x in range(n-1):\n",
    "                qfaCircuit.cu3(2*math.pi*(2**x)/prime, (math.pi)/2, (math.pi)/2, qr[x], qr[n-1])\n",
    "                qfaCircuit.cu3(-2*math.pi, (math.pi)/2, (math.pi)/2, qr[x], qr[n-1])\n",
    "        qfaCircuit.measure(qr[n-1], cr[n-1]) #Measure the target qubit    \n",
    "        return qfaCircuit #Returns the created quantum circuit"
   ]
  },
  {
   "cell_type": "code",
   "execution_count": 3,
   "metadata": {},
   "outputs": [
    {
     "name": "stdout",
     "output_type": "stream",
     "text": [
      "{'000': 1024}\n"
     ]
    }
   ],
   "source": [
    "params = qfa_speedup(\"a\"*46, 23)\n",
    "job = execute(params, \"local_qasm_simulator\")\n",
    "result = job.result()\n",
    "print(result.get_counts(params))"
   ]
  },
  {
   "cell_type": "code",
   "execution_count": 4,
   "metadata": {},
   "outputs": [
    {
     "data": {
      "image/png": "[encoded data removed]",
      "text/plain": [
       "<matplotlib.figure.Figure at 0xa1949c9e8>"
      ]
     },
     "metadata": {},
     "output_type": "display_data"
    }
   ],
   "source": [
    "plot_histogram(result.get_counts(params))"
   ]
  }
 ],
 "metadata": {
  "kernelspec": {
   "display_name": "Python 3",
   "language": "python",
   "name": "python3"
  },
  "language_info": {
   "codemirror_mode": {
    "name": "ipython",
    "version": 3
   },
   "file_extension": ".py",
   "mimetype": "text/x-python",
   "name": "python",
   "nbconvert_exporter": "python",
   "pygments_lexer": "ipython3",
   "version": "3.6.5"
  }
 },
 "nbformat": 4,
 "nbformat_minor": 2
}
